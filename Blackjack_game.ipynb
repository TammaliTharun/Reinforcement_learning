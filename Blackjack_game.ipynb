{
 "cells": [
  {
   "cell_type": "raw",
   "id": "afb2b371-d269-468e-9292-14dd206ba41a",
   "metadata": {},
   "source": [
    "Example: Learning to play Blackjack using MC methods:\n",
    "▶ Goal of the game: Obtain cards whose numerical value is as great as possible without exceeding a value of 21\n",
    "▶ Rules of the game:\n",
    "■ 2-players (dealer vs player), all face cards count as 10 and an ace can be either 1 or 11\n",
    "■ Game begins with both having two cards with one of the dealers card facing up and the\n",
    "other is down\n",
    "■ If the player has 21, it is called natural and he wins unless the dealer also has a natural, in\n",
    "which case, it is a draw\n",
    "■ If the player does not have natural, he can request additional cards, one by one (hits) until\n",
    "he either stops (sticks) or exceeds 21 (goes bust and loses the game)\n",
    "■ If he sticks, then now it’s the dealer’s turn to either hit or stick. The one close to goal is the winner.\n",
    "\n",
    "MDP formulation of Blackjack:\n",
    "▶ Episodic MDP since there is a defined termination\n",
    "▶ State Variables: Two variables: 1) Dealer’s faced up card 2) Players current total\n",
    "▶ Actions: Two possible actions: 1) Hit (Request an additional card) 2) Stick (End the turn of hit)\n",
    "▶ Reward Function:\n",
    "1. Win : +1\n",
    "2. Lose: -1 \n",
    "3. Draw: 0\n",
    "\n",
    "▶ Exercise: Write a python code which simulates the blackjack environment and finds an optimal policy using Off-policy and On-policy MC methods\n",
    "Importance Sampling in Blackjack Problem:\n",
    "▶ Suppose the target and behaviour policies are as follows:\n",
    "■ Target Policy: Player hits if sum is less than or equal to 19 and sticks if sum is 20 or 21\n",
    "■ Behaviour Policy: Hits with 50% probability and sticks otherwise\n",
    "▶ Suppose the cards drawn by the player are 9, 6, 5, 1 based on behaviour policy, what is the importance sampling ratio?"
   ]
  },
  {
   "cell_type": "code",
   "execution_count": null,
   "id": "e2a968ad-9cb1-404d-bc73-035e39f580d2",
   "metadata": {},
   "outputs": [],
   "source": [
    "### Author: Tammali Tharun(IITM, department of chemical engineering)"
   ]
  },
  {
   "cell_type": "markdown",
   "id": "6bb0fbf0-91d1-4084-8215-aa324e57ef64",
   "metadata": {},
   "source": [
    "# Blackjack using MC methods"
   ]
  },
  {
   "cell_type": "code",
   "execution_count": 2,
   "id": "0c6ba95f-52b0-4691-9dce-f4ea89d078ed",
   "metadata": {},
   "outputs": [],
   "source": [
    "import gym\n",
    "from gym import envs\n",
    "import numpy as np\n",
    "import matplotlib\n",
    "import matplotlib.pyplot as plt\n",
    "from mpl_toolkits.mplot3d import Axes3D\n",
    "import matplotlib as mpl\n",
    "from matplotlib import cm\n",
    "from collections import defaultdict\n",
    "from IPython.display import clear_output\n",
    "%matplotlib inline\n",
    "import numpy as np\n",
    "import gym\n",
    "from collections import defaultdict\n",
    "import matplotlib.pyplot as plt\n",
    "import seaborn as sns"
   ]
  },
  {
   "cell_type": "markdown",
   "id": "856ee5e6-65c2-49cb-b198-bc59e212c119",
   "metadata": {},
   "source": [
    "### The agent only has 2 options\n",
    "- 0 - Stick\n",
    "- 1 - Hit\n"
   ]
  },
  {
   "cell_type": "code",
   "execution_count": 10,
   "id": "d6ce58d5-5779-418d-a979-b2be380ea206",
   "metadata": {},
   "outputs": [
    {
     "name": "stdout",
     "output_type": "stream",
     "text": [
      "((5, 1, False), -1.0, True, False, {})\n"
     ]
    }
   ],
   "source": [
    "def get_obs(env):\n",
    "    l = (new_state, reward, done, info, emp) = env.step(0)\n",
    "    return l[0]\n",
    "    \n",
    "print(env.step(0))"
   ]
  },
  {
   "cell_type": "markdown",
   "id": "a074b245-8204-4ec2-9514-b4c35930de31",
   "metadata": {},
   "source": [
    "# On policy MC control"
   ]
  },
  {
   "cell_type": "code",
   "execution_count": 4,
   "id": "12227186-c4da-40b2-8c61-788770e6b5a4",
   "metadata": {},
   "outputs": [],
   "source": [
    "def policy_greedy(Q,epsilon,curr_state,env):\n",
    "    best_action = np.argmax(Q[curr_state])\n",
    "    A = np.ones(env.action_space.n, dtype=np.float32) * epsilon / env.action_space.n\n",
    "    A[best_action]+= 1.0 - epsilon\n",
    "    # print(A)\n",
    "    return A    \n",
    "    "
   ]
  },
  {
   "cell_type": "code",
   "execution_count": 11,
   "id": "27c56e3e-79c8-4bcf-b429-05d007e348b4",
   "metadata": {},
   "outputs": [
    {
     "name": "stderr",
     "output_type": "stream",
     "text": [
      "/Library/Frameworks/Python.framework/Versions/3.12/lib/python3.12/site-packages/gym/utils/passive_env_checker.py:233: DeprecationWarning: `np.bool8` is a deprecated alias for `np.bool_`.  (Deprecated NumPy 1.24)\n",
      "  if not isinstance(terminated, (bool, np.bool8)):\n"
     ]
    },
    {
     "name": "stdout",
     "output_type": "stream",
     "text": [
      "!!! Done !!!\n"
     ]
    }
   ],
   "source": [
    "\n",
    "def on_pol_mc_control(env, episodes, discount_factor, epsilon):\n",
    "    n_actions = env.action_space.n\n",
    "    Q = {}\n",
    "    N = {}  # Counter for number of visits\n",
    "    G = {}  # Sum of returns\n",
    "\n",
    "    for i in range(episodes):\n",
    "        episode = []\n",
    "        reset = env.reset()\n",
    "        state = get_obs(env)\n",
    "        visit_status = {}\n",
    "        T = 100\n",
    "        for t in range(T):  \n",
    "            if(state not in Q):\n",
    "                Q[state] = np.zeros(n_actions)\n",
    "\n",
    "            \n",
    "            action_prob = policy_greedy(Q,epsilon,state,env)\n",
    "            action = np.random.choice(np.arange(env.action_space.n), p=action_prob)\n",
    "            \n",
    "            new_state, reward, done, info, emp = env.step(action)\n",
    "            episode.append((state, action, reward))\n",
    "            visit_status[(state, action)] = False\n",
    "            \n",
    "            if done:\n",
    "                break\n",
    "            state = new_state\n",
    "\n",
    "        G_t = 0\n",
    "        # print(\"Episode-\",episode)\n",
    "        # print(\"---------------------------------------------------\")\n",
    "        for t in reversed(range(len(episode))):\n",
    "            state, action, reward = episode[t]\n",
    "\n",
    "            #First visit\n",
    "            if visit_status[(state, action)] == False:\n",
    "                visit_status[(state, action)] = True\n",
    "                if (state, action) not in N:\n",
    "                    N[(state, action)] = 0\n",
    "                    G[(state, action)] = 0\n",
    "                N[(state, action)] += 1\n",
    "                #Discounted return\n",
    "                G_t = reward + discount_factor * G_t\n",
    "                G[(state, action)] += G_t\n",
    "            Q[state][action] = G[(state, action)] / N[(state, action)]\n",
    "    return Q\n",
    "\n",
    "# create environment\n",
    "env = gym.make('Blackjack-v1')\n",
    "\n",
    "# Parameters\n",
    "episodes = 50000\n",
    "discount_factor = 0.9\n",
    "epsilon = 0.01\n",
    "\n",
    "Q = on_pol_mc_control(env, episodes, discount_factor, epsilon)\n",
    "env.close()\n",
    "print(\"!!! Done !!!\")\n"
   ]
  },
  {
   "cell_type": "markdown",
   "id": "c365d0e8-6bbf-49f5-9ec3-e935553a1fb5",
   "metadata": {},
   "source": [
    "### Optimal policy"
   ]
  },
  {
   "cell_type": "markdown",
   "id": "25b05ecb-357b-459e-954b-2be172e33054",
   "metadata": {},
   "source": [
    "- After training for **50,000 episodes** for **On-policy MC control.**\n",
    "- I have successfully derived an optimal policy for playing Blackjack game.\n",
    "- Below is the recorded optimal policy, which outlines the best actions to take in various game scenarios to achieve the highest possible return.\n",
    "- This policy is a result of thorough exploration and exploitation, ensuring that it provides a robust strategy for playing Blackjack game effectively."
   ]
  },
  {
   "cell_type": "code",
   "execution_count": 12,
   "id": "9c823eac-5984-444d-bbcb-3f2f265ed97b",
   "metadata": {},
   "outputs": [],
   "source": [
    "optimal_policy = {}\n",
    "for state, actions in Q.items():\n",
    "    optimal_policy[state] = np.argmax(actions)"
   ]
  },
  {
   "cell_type": "code",
   "execution_count": 13,
   "id": "53082975-752e-4343-bcd0-753fada55b73",
   "metadata": {},
   "outputs": [
    {
     "data": {
      "image/png": "[encoded data removed]",
      "text/plain": [
       "<Figure size 800x800 with 1 Axes>"
      ]
     },
     "metadata": {},
     "output_type": "display_data"
    }
   ],
   "source": [
    "player_sums = range(4, 22)\n",
    "dealer_cards = range(1, 11)\n",
    "heatmap_data = np.zeros((len(player_sums), len(dealer_cards)))\n",
    "\n",
    "for state, action in optimal_policy.items():\n",
    "    player_sum, dealer_card, usable_ace = state\n",
    "    if not usable_ace:\n",
    "        heatmap_data[player_sum-4, dealer_card-1] = action\n",
    "\n",
    "plt.figure(figsize=(8, 8))\n",
    "sns.heatmap(heatmap_data, cmap=\"YlGnBu\", annot=True, cbar=False, xticklabels=dealer_cards, yticklabels=player_sums)\n",
    "plt.xlabel('Dealer Card')\n",
    "plt.ylabel('Player Sum')\n",
    "plt.title('Optimal Policy (0 = Stick, 1 = Hit)')\n",
    "plt.show()"
   ]
  }
 ],
 "metadata": {
  "kernelspec": {
   "display_name": "Python 3 (ipykernel)",
   "language": "python",
   "name": "python3"
  },
  "language_info": {
   "codemirror_mode": {
    "name": "ipython",
    "version": 3
   },
   "file_extension": ".py",
   "mimetype": "text/x-python",
   "name": "python",
   "nbconvert_exporter": "python",
   "pygments_lexer": "ipython3",
   "version": "3.12.1"
  }
 },
 "nbformat": 4,
 "nbformat_minor": 5
}
